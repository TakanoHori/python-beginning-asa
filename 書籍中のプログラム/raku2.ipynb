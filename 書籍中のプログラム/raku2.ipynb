{
 "cells": [
  {
   "cell_type": "markdown",
   "metadata": {},
   "source": [
    "# python wrapper for raku2.m\n",
    "https://github.com/mmorise/beginning_asa/blob/main/書籍中のプログラム/raku2.m\n",
    "\n",
    "## この章で使用したライブラリ\n",
    "- matplotlib\n",
    "- numpy\n",
    "\n",
    "## 注意\n",
    "実装に関係することはコメントしています。\n",
    "関数の説明については書籍を参考にしてください。"
   ]
  },
  {
   "cell_type": "code",
   "execution_count": null,
   "metadata": {},
   "outputs": [],
   "source": [
    "import numpy as np\n",
    "import matplotlib.pyplot as plt"
   ]
  },
  {
   "cell_type": "code",
   "execution_count": null,
   "metadata": {},
   "outputs": [],
   "source": [
    "# p.18\n",
    "fs=44100\n",
    "t=np.arange(0,fs/2)/fs\n",
    "x=np.sin(2*np.pi*t)"
   ]
  },
  {
   "cell_type": "code",
   "execution_count": null,
   "metadata": {},
   "outputs": [],
   "source": [
    "# S=np.sum(x)/fs\n",
    "np.sum(x)/fs"
   ]
  },
  {
   "cell_type": "code",
   "execution_count": null,
   "metadata": {},
   "outputs": [],
   "source": [
    "# p.20\n",
    "n=np.arange(0,21)\n",
    "omega=0.1*2*np.pi\n",
    "x1=np.sin(omega*n)\n",
    "x2=np.sin((omega+2*np.pi)*n)"
   ]
  },
  {
   "cell_type": "code",
   "execution_count": null,
   "metadata": {},
   "outputs": [],
   "source": [
    "# p.21\n",
    "plt.subplot(2,1,1)\n",
    "plt.plot(n,x1)\n",
    "plt.subplot(2,1,2)\n",
    "plt.plot(n,x2)"
   ]
  },
  {
   "cell_type": "code",
   "execution_count": null,
   "metadata": {},
   "outputs": [],
   "source": [
    "plt.plot(x1-x2)"
   ]
  },
  {
   "cell_type": "code",
   "execution_count": null,
   "metadata": {},
   "outputs": [],
   "source": [
    "plt.ylim(-1,1)"
   ]
  },
  {
   "cell_type": "code",
   "execution_count": null,
   "metadata": {},
   "outputs": [],
   "source": [
    "# p.23\n",
    "# 補足：直流成分除去のイメージを説明する意図で，xが未定義だと動きません．\n",
    "x=x-np.mean(x)\n",
    "x"
   ]
  },
  {
   "cell_type": "code",
   "execution_count": null,
   "metadata": {},
   "outputs": [],
   "source": [
    "# p.24\n",
    "N=1000 # この値を大きくしながら何度か実行してみよう．\n",
    "x1=np.random.rand(N,1)\n",
    "x2=np.random.rand(N,1)"
   ]
  },
  {
   "cell_type": "code",
   "execution_count": null,
   "metadata": {},
   "outputs": [],
   "source": [
    "x1=x1-np.mean(x1)\n",
    "x2=x2-np.mean(x2)"
   ]
  },
  {
   "cell_type": "code",
   "execution_count": null,
   "metadata": {},
   "outputs": [],
   "source": [
    "# ランダムに生成される x1, x2 に応じて変化\n",
    "# L_p = 10*np.log10(np.sum(pow(x1,2))/np.sum(pow(x2,2)))\n",
    "10*np.log10(np.sum(pow(x1,2))/np.sum(pow(x2,2)))"
   ]
  },
  {
   "cell_type": "code",
   "execution_count": null,
   "metadata": {},
   "outputs": [],
   "source": [
    "# p.26\n",
    "# 補足：p.24の必要部分も記載\n",
    "N=1000\n",
    "a=2\n",
    "x1=np.random.rand(N,1)*2\n",
    "x2=np.random.rand(N,1)\n",
    "\n",
    "x1=x1-np.mean(x1)\n",
    "x2=x2-np.mean(x2)\n",
    "\n",
    "#L_p=10*np.log10(np.sum(pow(x1,2))/np.sum(pow(x2,2)))\n",
    "10*np.log10(np.sum(pow(x1,2))/np.sum(pow(x2,2)))"
   ]
  },
  {
   "cell_type": "code",
   "execution_count": null,
   "metadata": {},
   "outputs": [],
   "source": [
    "# p.26\n",
    "# 配列のインデックスはint型である必要がある\n",
    "fs=44100\n",
    "t=np.arange(0,fs).reshape(-1,1)/fs\n",
    "x1=np.zeros((fs,1))\n",
    "x1[int(fs/2-500+1):int(fs/2+500+1)]=1\n",
    "x2=np.zeros((fs,1))\n",
    "x2[int(fs/4-1000+1):int(fs/4+1000+1)]=1"
   ]
  },
  {
   "cell_type": "code",
   "execution_count": null,
   "metadata": {},
   "outputs": [],
   "source": [
    "# p.27\n",
    "plt.subplot(2, 1, 1)\n",
    "plt.plot(t, x1)\n",
    "plt.subplot(2, 1, 2)\n",
    "plt.plot(t, x2)\n",
    "plt.show()"
   ]
  },
  {
   "cell_type": "code",
   "execution_count": null,
   "metadata": {},
   "outputs": [],
   "source": [
    "# p.28\n",
    "energy=np.sum(pow(x1,2))/fs\n",
    "xx1=x1/np.sqrt(energy)\n",
    "np.sum(pow(xx1,2))/fs"
   ]
  },
  {
   "cell_type": "code",
   "execution_count": null,
   "metadata": {},
   "outputs": [],
   "source": [
    "t_c=np.sum(t*pow(xx1,2))/fs"
   ]
  },
  {
   "cell_type": "code",
   "execution_count": null,
   "metadata": {},
   "outputs": [],
   "source": [
    "# p.29\n",
    "print(t_c)"
   ]
  },
  {
   "cell_type": "code",
   "execution_count": null,
   "metadata": {},
   "outputs": [],
   "source": [
    "# p.30\n",
    "energy=np.sum(pow(x1,2))/fs\n",
    "xx1=x1/np.sqrt(energy)\n",
    "t_c=np.sum(t*pow(xx1,2))/fs\n",
    "sigma_t=np.sum(pow((t-t_c),2)*pow(xx1,2))/fs\n",
    "print(sigma_t)"
   ]
  },
  {
   "cell_type": "code",
   "execution_count": null,
   "metadata": {},
   "outputs": [],
   "source": [
    "t_c1 = np.sum(t * pow(xx1, 2)) / fs\n",
    "t_c2 = np.sum(pow(t, 2) * pow(xx1, 2)) / fs\n",
    "sigma_t = t_c2 - pow(t_c1, 2)\n",
    "print(sigma_t)  # 本文には書かれていないが追加"
   ]
  },
  {
   "cell_type": "code",
   "execution_count": null,
   "metadata": {},
   "outputs": [],
   "source": [
    "# p.31\n",
    "print(fs/np.sum(pow(x1,2))/3*(2*pow(500.5/fs,3)))"
   ]
  },
  {
   "cell_type": "code",
   "execution_count": null,
   "metadata": {},
   "outputs": [],
   "source": [
    "# pp.32-33\n",
    "fs=100\n",
    "t=np.arange(0,fs-1)/fs\n",
    "f=1\n",
    "signal=np.sin(2*np.pi*f*t)\n",
    "noise=np.random.randn(fs,1)"
   ]
  },
  {
   "cell_type": "code",
   "execution_count": null,
   "metadata": {},
   "outputs": [],
   "source": [
    "# p.33\n",
    "10*np.log10(np.sum(pow(signal,2)))"
   ]
  },
  {
   "cell_type": "code",
   "execution_count": null,
   "metadata": {},
   "outputs": [],
   "source": [
    "10*np.log10(np.sum(pow(noise,2)))"
   ]
  },
  {
   "cell_type": "code",
   "execution_count": null,
   "metadata": {},
   "outputs": [],
   "source": [
    "snr=6\n",
    "noise=noise/np.sqrt(np.sum(pow(noise,2)))\n",
    "noise=noise*np.sqrt(np.sum(pow(signal,2)))\n",
    "noise=noise*pow(10, (-snr/20))"
   ]
  },
  {
   "cell_type": "code",
   "execution_count": null,
   "metadata": {},
   "outputs": [],
   "source": [
    "# p. 34\n",
    "10*np.log10(np.sum(pow(signal,2))/np.sum(pow(noise,2)))"
   ]
  },
  {
   "cell_type": "code",
   "execution_count": null,
   "metadata": {},
   "outputs": [],
   "source": [
    "x=signal+noise"
   ]
  },
  {
   "cell_type": "code",
   "execution_count": null,
   "metadata": {},
   "outputs": [],
   "source": [
    "y=np.zeros((len(x),1))\n",
    "M=5\n",
    "for i in range(M+1,len(y)-M):\n",
    "    y[i]=np.mean(x[i-M:i+M])\n",
    "\n",
    "plt.plot(y)\n",
    "plt.show()"
   ]
  },
  {
   "cell_type": "code",
   "execution_count": null,
   "metadata": {},
   "outputs": [],
   "source": [
    "# p.36\n",
    "# FreeMatを使っている場合はmedianをMyMedianに置き換えること．\n",
    "y=np.zeros((len(x),1))\n",
    "M=5\n",
    "for i in range(M+1,len(y)-M):\n",
    "    y[i]=np.median(x[i-M:i+M])\n",
    "\n",
    "plt.plot(y)\n",
    "plt.show()"
   ]
  },
  {
   "cell_type": "code",
   "execution_count": null,
   "metadata": {},
   "outputs": [],
   "source": [
    "# p.37\n",
    "# FreeMatを使っている場合はrandiの書式を変えること．\n",
    "fs=100\n",
    "t=np.arange(0,fs).reshape(-1,1)/fs\n",
    "f=1\n",
    "signal=np.sin(2*np.pi*f*t)\n",
    "\n",
    "noise=np.zeros((fs,1))\n",
    "number_of_pulses=5\n",
    "for i in range(1,number_of_pulses):\n",
    "    noise[np.random.randint(len(noise))]=2*round(np.random.rand())-1\n",
    "\n",
    "x=signal+noise\n",
    "plt.plot(x)\n",
    "plt.show()"
   ]
  }
 ],
 "metadata": {
  "kernelspec": {
   "display_name": "python3.7.7",
   "language": "python",
   "name": "python3.7.7"
  },
  "language_info": {
   "codemirror_mode": {
    "name": "ipython",
    "version": 3
   },
   "file_extension": ".py",
   "mimetype": "text/x-python",
   "name": "python",
   "nbconvert_exporter": "python",
   "pygments_lexer": "ipython3",
   "version": "3.7.7"
  }
 },
 "nbformat": 4,
 "nbformat_minor": 4
}
