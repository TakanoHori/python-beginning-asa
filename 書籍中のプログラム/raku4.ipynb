{
 "cells": [
  {
   "cell_type": "markdown",
   "metadata": {},
   "source": [
    "# python wrapper for raku4.m\n",
    "https://github.com/mmorise/beginning_asa/blob/main/書籍中のプログラム/raku4.m\n",
    "\n",
    "## この章で使用したライブラリ\n",
    "- math\n",
    "- numpy\n",
    "- matplotlib\n",
    "\n",
    "## 注意\n",
    "実装に関係することはコメントしています。\n",
    "関数の説明については書籍を参考にしてください。"
   ]
  },
  {
   "cell_type": "code",
   "execution_count": null,
   "metadata": {},
   "outputs": [],
   "source": [
    "import math\n",
    "import numpy as np\n",
    "import matplotlib.pyplot as plt"
   ]
  },
  {
   "cell_type": "code",
   "execution_count": null,
   "metadata": {},
   "outputs": [],
   "source": [
    "# p.63\n",
    "fs=44100\n",
    "t=np.arange(0,fs*2-1)/fs\n",
    "f=5\n",
    "x=np.sin(2*np.pi*t*f)\n",
    "X=np.fft.fft(x)"
   ]
  },
  {
   "cell_type": "code",
   "execution_count": null,
   "metadata": {},
   "outputs": [],
   "source": [
    "# p.64\n",
    "w=np.arange(0,len(x))*fs/len(x)\n",
    "\n",
    "plt.plot(w,abs(X))\n",
    "plt.xlim(0,50)"
   ]
  },
  {
   "cell_type": "code",
   "execution_count": null,
   "metadata": {},
   "outputs": [],
   "source": [
    "# p.65\n",
    "fs=44100\n",
    "t=np.arange(0,fs).reshape(-1,1)/fs\n",
    "f=5\n",
    "x=np.sin(2*np.pi*t*f)\n",
    "fft_size=pow(2,math.ceil(math.log2(len(x))))\n",
    "X1=np.fft.fftn(x,axes=(0,1))\n",
    "X2=np.fft.fftn(x,s=(fft_size,1),axes=(0,1))"
   ]
  },
  {
   "cell_type": "code",
   "execution_count": null,
   "metadata": {},
   "outputs": [],
   "source": [
    "# p.66\n",
    "w=np.arange(0,len(x))*fs/len(x)\n",
    "\n",
    "plt.plot(w,abs(X1))\n",
    "plt.xlim(0,50)"
   ]
  },
  {
   "cell_type": "code",
   "execution_count": null,
   "metadata": {},
   "outputs": [],
   "source": [
    "# p.66\n",
    "w=np.arange(0,fft_size)*fs/fft_size\n",
    "\n",
    "plt.plot(w,abs(X2))\n",
    "plt.xlim(0,50)"
   ]
  },
  {
   "cell_type": "code",
   "execution_count": null,
   "metadata": {
    "scrolled": true
   },
   "outputs": [],
   "source": [
    "# p.67\n",
    "print(sum(pow(x, 2)))\n",
    "print(sum(pow(abs(X1), 2))/len(X1))\n",
    "print(sum(pow(abs(X2), 2))/fft_size)"
   ]
  },
  {
   "cell_type": "code",
   "execution_count": null,
   "metadata": {},
   "outputs": [],
   "source": [
    "# p.68\n",
    "fs=44100\n",
    "t=np.arange(0,fs).reshape(-1,1)/fs\n",
    "f1=10\n",
    "f2=100\n",
    "r1=1\n",
    "r2=2\n",
    "x1=r1*np.sin(2*np.pi*f1*t)\n",
    "x2=r2*np.sin(2*np.pi*f2*t)\n",
    "x=x1+x2\n",
    "X=np.fft.fftn(x,axes=(0,1))\n",
    "\n",
    "print(sum(pow(x1, 2)))\n",
    "print(sum(pow(x2, 2)))\n",
    "print(sum(pow(x, 2)))"
   ]
  },
  {
   "cell_type": "code",
   "execution_count": null,
   "metadata": {},
   "outputs": [],
   "source": [
    "# 本家にはないが、一つ前のFFT結果を描画する\n",
    "w=np.arange(0,len(x)).reshape(-1,1)*fs/len(x)\n",
    "\n",
    "plt.plot(w,abs(X))"
   ]
  },
  {
   "cell_type": "code",
   "execution_count": null,
   "metadata": {},
   "outputs": [],
   "source": [
    "# p.69\n",
    "p1=20*math.log10(sum(abs(X[1:20])))\n",
    "p2=20*math.log10(sum(abs(X[91:110])))\n",
    "print(f'p1: {p1}, p2: {p2}')"
   ]
  }
 ],
 "metadata": {
  "interpreter": {
   "hash": "196c89a27b9d634adbdf2fb52026b0214dd50acedbf56fbe6a9a28d9fe5abe11"
  },
  "kernelspec": {
   "display_name": "python3.7.7",
   "language": "python",
   "name": "python3.7.7"
  },
  "language_info": {
   "codemirror_mode": {
    "name": "ipython",
    "version": 3
   },
   "file_extension": ".py",
   "mimetype": "text/x-python",
   "name": "python",
   "nbconvert_exporter": "python",
   "pygments_lexer": "ipython3",
   "version": "3.7.7"
  }
 },
 "nbformat": 4,
 "nbformat_minor": 2
}
