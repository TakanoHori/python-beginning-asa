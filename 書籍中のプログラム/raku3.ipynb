{
 "cells": [
  {
   "cell_type": "markdown",
   "metadata": {},
   "source": [
    "# python wrapper for raku3.m\n",
    "https://github.com/mmorise/beginning_asa/blob/main/書籍中のプログラム/raku3.m\n",
    "\n",
    "## この章で使用したライブラリ\n",
    "- numpy\n",
    "\n",
    "## 注意\n",
    "実装に関係することはコメントしています。\n",
    "関数の説明については書籍を参考にしてください。"
   ]
  },
  {
   "cell_type": "code",
   "execution_count": null,
   "metadata": {},
   "outputs": [],
   "source": [
    "import numpy as np"
   ]
  },
  {
   "cell_type": "code",
   "execution_count": null,
   "metadata": {},
   "outputs": [],
   "source": [
    "# p.43\n",
    "fs=44100\n",
    "t=np.arange(0,fs-1)/fs\n",
    "r=1.5\n",
    "theta=0.3\n",
    "x=r*np.cos(2*np.pi*t-theta)"
   ]
  },
  {
   "cell_type": "code",
   "execution_count": null,
   "metadata": {},
   "outputs": [],
   "source": [
    "# p.44\n",
    "a=2/fs*sum(x*np.cos(2*np.pi*t))\n",
    "b=2/fs*sum(x*np.sin(2*np.pi*t))\n",
    "\n",
    "np.sqrt(pow(a,2)+pow(b,2))"
   ]
  },
  {
   "cell_type": "code",
   "execution_count": null,
   "metadata": {},
   "outputs": [],
   "source": [
    "np.arctan2(b,a)"
   ]
  },
  {
   "cell_type": "code",
   "execution_count": null,
   "metadata": {},
   "outputs": [],
   "source": [
    "# p.45\n",
    "# 補足：振幅と位相の計算結果の表示を追加\n",
    "fs=44100\n",
    "r=1.5\n",
    "theta=0.3\n",
    "f=2\n",
    "L=1/f\n",
    "t=np.arange(0,(fs*L)-1)/fs\n",
    "x=r*np.cos(2*np.pi*t/L-theta)\n",
    "a=2/fs/L*sum(x*np.cos(2*np.pi*t/L))\n",
    "b=2/fs/L*sum(x*np.sin(2*np.pi*t/L))\n",
    "\n",
    "np.sqrt(pow(a,2)+pow(b,2))"
   ]
  },
  {
   "cell_type": "code",
   "execution_count": null,
   "metadata": {},
   "outputs": [],
   "source": [
    "np.arctan2(b,a)"
   ]
  },
  {
   "cell_type": "code",
   "execution_count": null,
   "metadata": {},
   "outputs": [],
   "source": [
    "# p.47\n",
    "# 補足：nとmの値を変えながら試してみよう．\n",
    "fs=44100\n",
    "r=1.5\n",
    "theta=0.3\n",
    "n=2\n",
    "m=3\n",
    "t=np.arange(0,fs-1)/fs\n",
    "x=r*np.cos(2*np.pi*n*t-theta)\n",
    "a=2/fs*sum(x*np.cos(2*np.pi*m*t))\n",
    "b=2/fs*sum(x*np.sin(2*np.pi*m*t))"
   ]
  },
  {
   "cell_type": "code",
   "execution_count": null,
   "metadata": {},
   "outputs": [],
   "source": [
    "# p.48\n",
    "fs=44100\n",
    "n1=1\n",
    "r1=1.5\n",
    "theta1=0.3\n",
    "n2=3\n",
    "r2=0.3\n",
    "theta2=1.1\n",
    "t=np.arange(0,fs-1)/fs\n",
    "x=r1*np.cos(2*np.pi*n1*t-theta1)+r2*np.cos(2*np.pi*n2*t-theta2)\n",
    "\n",
    "a=2/fs*sum(x*np.cos(2*np.pi*t*3))\n",
    "b=2/fs*sum(x*np.sin(2*np.pi*t*3))\n",
    "np.sqrt(pow(a,2)+pow(b,2))"
   ]
  },
  {
   "cell_type": "code",
   "execution_count": null,
   "metadata": {},
   "outputs": [],
   "source": [
    "np.arctan2(b,a)"
   ]
  },
  {
   "cell_type": "code",
   "execution_count": null,
   "metadata": {},
   "outputs": [],
   "source": [
    "# p.54\n",
    "fs=44100\n",
    "f1=1\n",
    "r1=1.5\n",
    "theta1=0.3\n",
    "f2=3\n",
    "r2=0.2\n",
    "theta2=-1.1\n",
    "t=np.arange(0,fs-1)/fs\n",
    "x=r1*np.cos(2*np.pi*f1*t-theta1)+r2*np.cos(2*np.pi*f2*t-theta2)"
   ]
  },
  {
   "cell_type": "code",
   "execution_count": null,
   "metadata": {},
   "outputs": [],
   "source": [
    "# p.55\n",
    "# 補足：本文中で書いているコマンドも追加．\n",
    "k1=1\n",
    "c1=sum(x*np.exp(-1j*2*np.pi*k1*t))/fs\n",
    "k3=3\n",
    "c3=sum(x*np.exp(-1j*2*np.pi*k3*t))/fs\n",
    "\n",
    "abs(c1)"
   ]
  },
  {
   "cell_type": "code",
   "execution_count": null,
   "metadata": {},
   "outputs": [],
   "source": [
    "np.angle(np.conj(c1))"
   ]
  },
  {
   "cell_type": "code",
   "execution_count": null,
   "metadata": {},
   "outputs": [],
   "source": [
    "# p.58\n",
    "fs=8\n",
    "f=0 # ここを0から4まで順番に試してみよう．\n",
    "r=0.5\n",
    "t=np.arange(0,fs-1)/fs\n",
    "x=r*np.cos(2*np.pi*f*t)\n",
    "c=np.sum(x*np.exp(-1j*2*np.pi*f*t))/fs\n",
    "abs(c)"
   ]
  },
  {
   "cell_type": "code",
   "execution_count": null,
   "metadata": {
    "scrolled": true
   },
   "outputs": [],
   "source": [
    "# p.60-61\n",
    "N=8\n",
    "x=np.random.rand(N,1)\n",
    "c=np.zeros((N,1), dtype=complex)\n",
    "for i in range(0,N):\n",
    "    c[i]=np.sum(x*np.exp(-1j*2*np.pi*i*np.arange(0,N).reshape(-1,1)/N))\n",
    "c"
   ]
  },
  {
   "cell_type": "code",
   "execution_count": null,
   "metadata": {},
   "outputs": [],
   "source": [
    "# 入力配列によって使う関数が異なることに注意\n",
    "X=np.fft.fftn(x,s=x.shape,axes=(0,1))\n",
    "X"
   ]
  }
 ],
 "metadata": {
  "kernelspec": {
   "display_name": "python3.7.7",
   "language": "python",
   "name": "python3.7.7"
  },
  "language_info": {
   "codemirror_mode": {
    "name": "ipython",
    "version": 3
   },
   "file_extension": ".py",
   "mimetype": "text/x-python",
   "name": "python",
   "nbconvert_exporter": "python",
   "pygments_lexer": "ipython3",
   "version": "3.7.7"
  }
 },
 "nbformat": 4,
 "nbformat_minor": 4
}
