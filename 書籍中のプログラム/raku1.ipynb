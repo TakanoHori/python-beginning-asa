{
 "cells": [
  {
   "cell_type": "markdown",
   "metadata": {},
   "source": [
    "# python wrapper for raku1.m\n",
    "https://github.com/mmorise/beginning_asa/blob/main/書籍中のプログラム/raku1.m\n",
    "\n",
    "## この章で使用したライブラリ\n",
    "- matplotlib\n",
    "- numpy\n",
    "- pyaudio\n",
    "- (複素数部分) cmath\n",
    "\n",
    "## 注意\n",
    "実装に関係することはコメントしています。\n",
    "関数の説明については書籍を参考にしてください。"
   ]
  },
  {
   "cell_type": "code",
   "execution_count": null,
   "metadata": {},
   "outputs": [],
   "source": [
    "import numpy as np\n",
    "import matplotlib.pyplot as plt\n",
    "import pyaudio\n",
    "import cmath"
   ]
  },
  {
   "cell_type": "code",
   "execution_count": null,
   "metadata": {},
   "outputs": [],
   "source": [
    "# p.2\n",
    "x=[1,3,-5,2]\n",
    "x"
   ]
  },
  {
   "cell_type": "code",
   "execution_count": null,
   "metadata": {},
   "outputs": [],
   "source": [
    "# p.3\n",
    "# MATLABは配列のインデックスが1から始まるため、横軸のズレに注意\n",
    "plt.plot(x)"
   ]
  },
  {
   "cell_type": "code",
   "execution_count": null,
   "metadata": {},
   "outputs": [],
   "source": [
    "fs=10\n",
    "t=np.arange(0,4)/fs\n",
    "plt.plot(t,x)"
   ]
  },
  {
   "cell_type": "code",
   "execution_count": null,
   "metadata": {},
   "outputs": [],
   "source": [
    "# p.4\n",
    "plt.xlabel('Time (s)')\n",
    "plt.ylabel('Amplitude')\n",
    "plt.plot(t,x)"
   ]
  },
  {
   "cell_type": "code",
   "execution_count": null,
   "metadata": {},
   "outputs": [],
   "source": [
    "# p.5\n",
    "x=[1,3,-5,2]\n",
    "y=[[1],[3],[-5],[2]]"
   ]
  },
  {
   "cell_type": "code",
   "execution_count": null,
   "metadata": {},
   "outputs": [],
   "source": [
    "# numpyを使って縦ベクトルを作成\n",
    "num_y = np.array([1,3,-5,2]).reshape(-1,1)\n",
    "num_y"
   ]
  },
  {
   "cell_type": "markdown",
   "metadata": {},
   "source": [
    "x=[1,3,-5,2]  \n",
    "y=[1,3,-5,2]  \n",
    "print(type(x)) # <class 'list'>  \n",
    "x,yはlistとして扱うため、算術子を使うことができない。  \n",
    "「TypeError: can't multiply sequence by non-int of type 'list'」  \n",
    "というエラーが出る。"
   ]
  },
  {
   "cell_type": "code",
   "execution_count": null,
   "metadata": {},
   "outputs": [],
   "source": [
    "# p.6\n",
    "x=np.array([1,3,-5,2])\n",
    "y=np.array([1,3,-5,2])\n",
    "inner_product=np.sum(x*y)\n",
    "inner_product # 結果は39"
   ]
  },
  {
   "cell_type": "code",
   "execution_count": null,
   "metadata": {},
   "outputs": [],
   "source": [
    "# numpyライブラリを使って内積を求める\n",
    "inner_product=np.dot(x,y)\n",
    "inner_product"
   ]
  },
  {
   "cell_type": "code",
   "execution_count": null,
   "metadata": {},
   "outputs": [],
   "source": [
    "# p.7\n",
    "fs=44100\n",
    "t=np.arange(0,fs)/fs\n",
    "f=1 # 1回実行後，fを1000にして再度実行してみよう．\n",
    "x=np.sin(2*np.pi*f*t)\n",
    "\n",
    "plt.plot(t,x)"
   ]
  },
  {
   "cell_type": "code",
   "execution_count": null,
   "metadata": {},
   "outputs": [],
   "source": [
    "# p.7\n",
    "# 再生用の波形を再度作成\n",
    "# このスクリプトでは、float32の配列にする必要がある\n",
    "fs=44100\n",
    "t=np.arange(0,fs)/fs\n",
    "f=1000\n",
    "x=np.sin(2*np.pi*f*t).astype(np.float32)\n",
    "\n",
    "p = pyaudio.PyAudio()\n",
    "stream = p.open(format=pyaudio.paFloat32,\n",
    "               channels=1,\n",
    "               rate=fs,\n",
    "               output=True)\n",
    "stream.write(x)\n",
    "stream.stop_stream()\n",
    "stream.close()"
   ]
  },
  {
   "cell_type": "code",
   "execution_count": null,
   "metadata": {},
   "outputs": [],
   "source": [
    "# p.9\n",
    "# pythonでは、虚数単位は\"j\"\n",
    "x=3+4*1j\n",
    "r=abs(x)\n",
    "r"
   ]
  },
  {
   "cell_type": "code",
   "execution_count": null,
   "metadata": {},
   "outputs": [],
   "source": [
    "theta=cmath.phase(x)\n",
    "theta"
   ]
  },
  {
   "cell_type": "code",
   "execution_count": null,
   "metadata": {
    "scrolled": true
   },
   "outputs": [],
   "source": [
    "# p.10\n",
    "# read only\n",
    "print(\"実部: \",x.real, \"虚部: \",x.imag )"
   ]
  },
  {
   "cell_type": "code",
   "execution_count": null,
   "metadata": {
    "scrolled": false
   },
   "outputs": [],
   "source": [
    "# p.11\n",
    "# 指数表記でわかりづらいが、0+1j\n",
    "np.exp(1j*np.pi/2)"
   ]
  },
  {
   "cell_type": "code",
   "execution_count": null,
   "metadata": {},
   "outputs": [],
   "source": [
    "# 指数表記でわかりづらいが、-1+0j\n",
    "np.exp(1j*np.pi)"
   ]
  },
  {
   "cell_type": "code",
   "execution_count": null,
   "metadata": {},
   "outputs": [],
   "source": [
    "# 指数表記でわかりづらいが、1-0j\n",
    "np.exp(1j*2*np.pi)"
   ]
  },
  {
   "cell_type": "code",
   "execution_count": null,
   "metadata": {},
   "outputs": [],
   "source": [
    "# p.13\n",
    "x=np.array([1,3,-5,2])"
   ]
  },
  {
   "cell_type": "code",
   "execution_count": null,
   "metadata": {},
   "outputs": [],
   "source": [
    "# p.14\n",
    "# 畳み込み\n",
    "x=np.array([1,3,-5,2])\n",
    "h=np.array([1,2,1])\n",
    "y=np.convolve(x,h) \n",
    "y # 結果は[1 5 2 -5 -1 2]"
   ]
  }
 ],
 "metadata": {
  "kernelspec": {
   "display_name": "python3.7.7",
   "language": "python",
   "name": "python3.7.7"
  },
  "language_info": {
   "codemirror_mode": {
    "name": "ipython",
    "version": 3
   },
   "file_extension": ".py",
   "mimetype": "text/x-python",
   "name": "python",
   "nbconvert_exporter": "python",
   "pygments_lexer": "ipython3",
   "version": "3.7.7"
  }
 },
 "nbformat": 4,
 "nbformat_minor": 4
}
